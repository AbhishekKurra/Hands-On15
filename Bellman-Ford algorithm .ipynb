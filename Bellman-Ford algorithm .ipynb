{
  "nbformat": 4,
  "nbformat_minor": 0,
  "metadata": {
    "colab": {
      "provenance": [],
      "authorship_tag": "ABX9TyPRwiT9w26U0Ccn/Euj0ekV",
      "include_colab_link": true
    },
    "kernelspec": {
      "name": "python3",
      "display_name": "Python 3"
    },
    "language_info": {
      "name": "python"
    }
  },
  "cells": [
    {
      "cell_type": "markdown",
      "metadata": {
        "id": "view-in-github",
        "colab_type": "text"
      },
      "source": [
        "<a href=\"https://colab.research.google.com/github/AbhishekKurra/Hands-On15/blob/main/Bellman-Ford%20algorithm%20.ipynb\" target=\"_parent\"><img src=\"https://colab.research.google.com/assets/colab-badge.svg\" alt=\"Open In Colab\"/></a>"
      ]
    },
    {
      "cell_type": "code",
      "execution_count": 9,
      "metadata": {
        "colab": {
          "base_uri": "https://localhost:8080/"
        },
        "id": "Gn6IYaBuTb6L",
        "outputId": "adbb9177-70f0-498a-89f7-f52aa3a1e9d8"
      },
      "outputs": [
        {
          "output_type": "stream",
          "name": "stdout",
          "text": [
            "Graph 1 - Source: A\n",
            "Shortest distances: {'A': 0, 'B': -6, 'C': -3, 'D': -7, 'E': -2}\n",
            "Predecessors: {'A': None, 'B': 'D', 'C': 'D', 'D': 'E', 'E': 'B'}\n",
            "Has negative cycle: True\n",
            "------------------------------\n",
            "Graph 2 - Source: A\n",
            "Shortest distances: {'A': -12, 'B': -7, 'C': -9}\n",
            "Predecessors: {'A': 'C', 'B': 'A', 'C': 'B'}\n",
            "Has negative cycle: True\n",
            "------------------------------\n",
            "Graph 3 - Source: 0\n",
            "Shortest distances: {0: 0, 1: -1, 2: -2, 3: 2}\n",
            "Predecessors: {0: None, 1: 2, 2: 0, 3: 1}\n",
            "Has negative cycle: False\n"
          ]
        }
      ],
      "source": [
        "import math\n",
        "\n",
        "def bellman_ford(graph, source):\n",
        "\n",
        "    distances = {vertex: math.inf for vertex in graph}\n",
        "    distances[source] = 0\n",
        "    predecessors = {vertex: None for vertex in graph}\n",
        "\n",
        "    num_vertices = len(graph)\n",
        "\n",
        "    for _ in range(num_vertices - 1):\n",
        "        for u in graph:\n",
        "            for v, weight in graph[u]:\n",
        "                if distances[u] != math.inf and distances[u] + weight < distances[v]:\n",
        "                    distances[v] = distances[u] + weight\n",
        "                    predecessors[v] = u\n",
        "\n",
        "    for u in graph:\n",
        "        for v, weight in graph[u]:\n",
        "            if distances[u] != math.inf and distances[u] + weight < distances[v]:\n",
        "                return distances, predecessors, True\n",
        "\n",
        "    return distances, predecessors, False\n",
        "\n",
        "if __name__ == '__main__':\n",
        "\n",
        "    graph1 = {\n",
        "        'A': [('B', -2), ('C', 6)],\n",
        "        'B': [('C', 2), ('D', 3), ('E', 2)],\n",
        "        'C': [],\n",
        "        'D': [('B', 1), ('C', 4)],\n",
        "        'E': [('D', -5)]\n",
        "    }\n",
        "\n",
        "    source_node1 = 'A'\n",
        "    distances1, predecessors1, has_negative_cycle1 = bellman_ford(graph1, source_node1)\n",
        "\n",
        "    print(f\"Graph 1 - Source: {source_node1}\")\n",
        "    print(f\"Shortest distances: {distances1}\")\n",
        "    print(f\"Predecessors: {predecessors1}\")\n",
        "    print(f\"Has negative cycle: {has_negative_cycle1}\")\n",
        "    print(\"-\" * 30)\n",
        "\n",
        "\n",
        "    graph2 = {\n",
        "        'A': [('B', -1)],\n",
        "        'B': [('C', -2)],\n",
        "        'C': [('A', -3)]\n",
        "    }\n",
        "\n",
        "    source_node2 = 'A'\n",
        "    distances2, predecessors2, has_negative_cycle2 = bellman_ford(graph2, source_node2)\n",
        "\n",
        "    print(f\"Graph 2 - Source: {source_node2}\")\n",
        "    print(f\"Shortest distances: {distances2}\")\n",
        "    print(f\"Predecessors: {predecessors2}\")\n",
        "    print(f\"Has negative cycle: {has_negative_cycle2}\")\n",
        "    print(\"-\" * 30)\n",
        "    graph3 = {\n",
        "        0: [(1, 5), (2, -2)],\n",
        "        1: [(3, 3)],\n",
        "        2: [(1, 1), (3, 7)],\n",
        "        3: []\n",
        "\n",
        "\n",
        "\n",
        "    }\n",
        "    source_node3 = 0\n",
        "    distances3, predecessors3, has_negative_cycle3 = bellman_ford(graph3, source_node3)\n",
        "\n",
        "    print(f\"Graph 3 - Source: {source_node3}\")\n",
        "    print(f\"Shortest distances: {distances3}\")\n",
        "    print(f\"Predecessors: {predecessors3}\")\n",
        "    print(f\"Has negative cycle: {has_negative_cycle3}\")\n"
      ]
    }
  ]
}