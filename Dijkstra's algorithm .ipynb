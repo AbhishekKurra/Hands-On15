{
  "nbformat": 4,
  "nbformat_minor": 0,
  "metadata": {
    "colab": {
      "provenance": [],
      "authorship_tag": "ABX9TyNvKFhY7y3NECZ8KYLofHPb",
      "include_colab_link": true
    },
    "kernelspec": {
      "name": "python3",
      "display_name": "Python 3"
    },
    "language_info": {
      "name": "python"
    }
  },
  "cells": [
    {
      "cell_type": "markdown",
      "metadata": {
        "id": "view-in-github",
        "colab_type": "text"
      },
      "source": [
        "<a href=\"https://colab.research.google.com/github/AbhishekKurra/Hands-On15/blob/main/Dijkstra's%20algorithm%20.ipynb\" target=\"_parent\"><img src=\"https://colab.research.google.com/assets/colab-badge.svg\" alt=\"Open In Colab\"/></a>"
      ]
    },
    {
      "cell_type": "code",
      "execution_count": 4,
      "metadata": {
        "colab": {
          "base_uri": "https://localhost:8080/"
        },
        "id": "c2EnFLrcU__d",
        "outputId": "450c052a-4814-4a41-87b8-03804c7d0d7f"
      },
      "outputs": [
        {
          "output_type": "stream",
          "name": "stdout",
          "text": [
            "Shortest paths from node 'A':\n",
            "To A: 0\n",
            "To B: 4\n",
            "To C: 3\n",
            "To D: 6\n",
            "To E: 7\n"
          ]
        }
      ],
      "source": [
        "import heapq\n",
        "\n",
        "def dijkstra(graph, start_node):\n",
        "\n",
        "    distances = {node: float('inf') for node in graph}\n",
        "    distances[start_node] = 0\n",
        "    priority_queue = [(0, start_node)]\n",
        "\n",
        "    while priority_queue:\n",
        "        current_distance, current_node = heapq.heappop(priority_queue)\n",
        "\n",
        "        if current_distance > distances[current_node]:\n",
        "            continue\n",
        "\n",
        "        for neighbor, weight in graph.get(current_node, {}).items():\n",
        "            distance = current_distance + weight\n",
        "            if distance < distances[neighbor]:\n",
        "                distances[neighbor] = distance\n",
        "                heapq.heappush(priority_queue, (distance, neighbor))\n",
        "\n",
        "    return distances\n",
        "\n",
        "if __name__ == '__main__':\n",
        "\n",
        "    graph = {\n",
        "        'A': {'B': 5, 'C': 3},\n",
        "        'B': {'D': 2},\n",
        "        'C': {'B': 1, 'D': 4, 'E': 6},\n",
        "        'D': {'E': 1},\n",
        "        'E': {}\n",
        "    }\n",
        "\n",
        "    start_node = 'A'\n",
        "    shortest_paths = dijkstra(graph, start_node)\n",
        "\n",
        "    print(f\"Shortest paths from node '{start_node}':\")\n",
        "    for node, distance in shortest_paths.items():\n",
        "        print(f\"To {node}: {distance}\")"
      ]
    }
  ]
}