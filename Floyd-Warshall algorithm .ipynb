{
  "nbformat": 4,
  "nbformat_minor": 0,
  "metadata": {
    "colab": {
      "provenance": [],
      "authorship_tag": "ABX9TyPbxs3eQnH4DQhVNgeFHPVU",
      "include_colab_link": true
    },
    "kernelspec": {
      "name": "python3",
      "display_name": "Python 3"
    },
    "language_info": {
      "name": "python"
    }
  },
  "cells": [
    {
      "cell_type": "markdown",
      "metadata": {
        "id": "view-in-github",
        "colab_type": "text"
      },
      "source": [
        "<a href=\"https://colab.research.google.com/github/AbhishekKurra/Hands-On15/blob/main/Floyd-Warshall%20algorithm%20.ipynb\" target=\"_parent\"><img src=\"https://colab.research.google.com/assets/colab-badge.svg\" alt=\"Open In Colab\"/></a>"
      ]
    },
    {
      "cell_type": "code",
      "execution_count": 11,
      "metadata": {
        "colab": {
          "base_uri": "https://localhost:8080/"
        },
        "id": "Gn6IYaBuTb6L",
        "outputId": "75dce06b-c524-4157-a1b6-fbadf06b980b"
      },
      "outputs": [
        {
          "output_type": "stream",
          "name": "stdout",
          "text": [
            "Shortest paths between all pairs of vertices:\n",
            "[[0. 2. 4. 6.]\n",
            " [6. 0. 2. 5.]\n",
            " [4. 6. 0. 3.]\n",
            " [1. 3. 5. 0.]]\n",
            "\n",
            "Shortest paths with negative edge weights:\n",
            "[[-1.  0. -3.]\n",
            " [-2. -1. -4.]\n",
            " [ 0.  1. -2.]]\n"
          ]
        }
      ],
      "source": [
        "import numpy as np\n",
        "\n",
        "def floyd_warshall(graph):\n",
        "\n",
        "    num_vertices = len(graph)\n",
        "    distance = np.array(graph, copy=True)\n",
        "    for k in range(num_vertices):\n",
        "        for i in range(num_vertices):\n",
        "            for j in range(num_vertices):\n",
        "                if distance[i, k] + distance[k, j] < distance[i, j]:\n",
        "                    distance[i, j] = distance[i, k] + distance[k, j]\n",
        "\n",
        "    return distance\n",
        "\n",
        "if __name__ == '__main__':\n",
        "    graph = [\n",
        "        [0, 2, np.inf, 6],\n",
        "        [7, 0, 2, np.inf],\n",
        "        [4, np.inf, 0, 3],\n",
        "        [1, np.inf, np.inf, 0]\n",
        "    ]\n",
        "\n",
        "    shortest_paths = floyd_warshall(graph)\n",
        "    print(\"Shortest paths between all pairs of vertices:\")\n",
        "    print(shortest_paths)\n",
        "    graph_negative = [\n",
        "        [0, 1, np.inf],\n",
        "        [np.inf, 0, -3],\n",
        "        [1, np.inf, 0]\n",
        "    ]\n",
        "\n",
        "    shortest_paths_negative = floyd_warshall(graph_negative)\n",
        "    print(\"\\nShortest paths with negative edge weights:\")\n",
        "    print(shortest_paths_negative)\n",
        "\n"
      ]
    }
  ]
}